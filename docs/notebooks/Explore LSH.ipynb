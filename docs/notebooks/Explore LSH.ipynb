{
 "cells": [
  {
   "cell_type": "markdown",
   "metadata": {},
   "source": [
    "# Exploring Locality Sensitive Hashing"
   ]
  },
  {
   "cell_type": "code",
   "execution_count": 56,
   "metadata": {},
   "outputs": [],
   "source": [
    "# Imports\n",
    "\n",
    "import numpy as np\n",
    "from rdkit import Chem\n",
    "from rdkit.Chem import AllChem\n",
    "import sys\n",
    "import functools\n",
    "import mongomock"
   ]
  },
  {
   "cell_type": "code",
   "execution_count": 14,
   "metadata": {},
   "outputs": [],
   "source": [
    "# Permutation function\n",
    "\n",
    "def get_permutations(len_permutations=2048, num_permutations=100):\n",
    "    return map(lambda _: np.random.permutation(2048), range(num_permutations))"
   ]
  },
  {
   "cell_type": "code",
   "execution_count": 44,
   "metadata": {},
   "outputs": [],
   "source": [
    "permutations = get_permutations()"
   ]
  },
  {
   "cell_type": "code",
   "execution_count": 45,
   "metadata": {},
   "outputs": [],
   "source": [
    "def get_min_hash(mol, permutations):\n",
    "    qfp = list(AllChem.GetMorganFingerprintAsBitVect(mol, 2, nBits=2048))\n",
    "    min_hash = []\n",
    "    for perm in permutations:\n",
    "        for idx, i in enumerate(perm):\n",
    "            if qfp_bits[i]:\n",
    "                min_hash.append(idx)\n",
    "                break            \n",
    "    return min_hash"
   ]
  },
  {
   "cell_type": "code",
   "execution_count": 46,
   "metadata": {},
   "outputs": [],
   "source": [
    "mol = Chem.MolFromSmiles('C1=CC=CC=C1OC')\n",
    "min_hash = get_min_hash(mol, permutations)\n"
   ]
  },
  {
   "cell_type": "code",
   "execution_count": 54,
   "metadata": {},
   "outputs": [],
   "source": [
    "def hash_to_buckets(min_hash, num_buckets=25, nBits=2048):\n",
    "    if len(min_hash) % num_buckets:\n",
    "        raise Exception('number of buckets must be divisiable by the hash length')\n",
    "    buckets = []\n",
    "    hash_per_bucket = int(len(min_hash) / num_buckets)\n",
    "    num_bits = (nBits-1).bit_length()\n",
    "#     if num_bits * hash_per_bucket > sys.maxint.bit_length():\n",
    "#         raise Exception('numbers are too large to produce valid buckets')\n",
    "    for b in range(num_buckets):\n",
    "        buckets.append(functools.reduce(lambda x,y: (x << num_bits) + y, min_hash[b:(b + hash_per_bucket)]))\n",
    "    return buckets"
   ]
  },
  {
   "cell_type": "code",
   "execution_count": 55,
   "metadata": {},
   "outputs": [
    {
     "data": {
      "text/plain": [
       "[250056202389,\n",
       " 1941707205052,\n",
       " 782309908621,\n",
       " 1281762813978,\n",
       " 3814522409145,\n",
       " 1211290208280,\n",
       " 224114294943,\n",
       " 1589238888575,\n",
       " 206825584784,\n",
       " 1366332571687,\n",
       " 1091525753125,\n",
       " 1237114759205,\n",
       " 336236456125,\n",
       " 2517006411838,\n",
       " 318620430363,\n",
       " 1623757740190,\n",
       " 532689514536,\n",
       " 232591015954,\n",
       " 1357377474657,\n",
       " 343673079808,\n",
       " 155025670508,\n",
       " 833224401069,\n",
       " 1527081060,\n",
       " 3127462010894,\n",
       " 1486478143488]"
      ]
     },
     "execution_count": 55,
     "metadata": {},
     "output_type": "execute_result"
    }
   ],
   "source": [
    "hash_to_buckets(min_hash)"
   ]
  },
  {
   "cell_type": "code",
   "execution_count": 57,
   "metadata": {},
   "outputs": [],
   "source": [
    "client = mongomock.MongoClient()"
   ]
  },
  {
   "cell_type": "code",
   "execution_count": 58,
   "metadata": {},
   "outputs": [],
   "source": [
    "db = client.db"
   ]
  },
  {
   "cell_type": "code",
   "execution_count": 59,
   "metadata": {},
   "outputs": [
    {
     "data": {
      "text/plain": [
       "[]"
      ]
     },
     "execution_count": 59,
     "metadata": {},
     "output_type": "execute_result"
    }
   ],
   "source": [
    "db.list_collection_names()"
   ]
  },
  {
   "cell_type": "code",
   "execution_count": 60,
   "metadata": {},
   "outputs": [
    {
     "data": {
      "text/plain": [
       "<pymongo.results.InsertOneResult at 0x11d3e8550>"
      ]
     },
     "execution_count": 60,
     "metadata": {},
     "output_type": "execute_result"
    }
   ],
   "source": [
    "db.molecules.insert_one({'_id': 1, 'molecule': 'boom'})"
   ]
  },
  {
   "cell_type": "code",
   "execution_count": 61,
   "metadata": {},
   "outputs": [
    {
     "data": {
      "text/plain": [
       "['molecules']"
      ]
     },
     "execution_count": 61,
     "metadata": {},
     "output_type": "execute_result"
    }
   ],
   "source": [
    "db.list_collection_names()"
   ]
  },
  {
   "cell_type": "code",
   "execution_count": 62,
   "metadata": {},
   "outputs": [
    {
     "data": {
      "text/plain": [
       "<mongomock.collection.Cursor at 0x11af44950>"
      ]
     },
     "execution_count": 62,
     "metadata": {},
     "output_type": "execute_result"
    }
   ],
   "source": [
    "db.molecules.find()"
   ]
  },
  {
   "cell_type": "code",
   "execution_count": 63,
   "metadata": {},
   "outputs": [
    {
     "data": {
      "text/plain": [
       "{'_id': 1, 'molecule': 'boom'}"
      ]
     },
     "execution_count": 63,
     "metadata": {},
     "output_type": "execute_result"
    }
   ],
   "source": [
    "db.molecules.find_one()"
   ]
  },
  {
   "cell_type": "code",
   "execution_count": null,
   "metadata": {},
   "outputs": [],
   "source": []
  }
 ],
 "metadata": {
  "kernelspec": {
   "display_name": "py37_rdkit_beta",
   "language": "python",
   "name": "py37_rdkit_beta"
  },
  "language_info": {
   "codemirror_mode": {
    "name": "ipython",
    "version": 3
   },
   "file_extension": ".py",
   "mimetype": "text/x-python",
   "name": "python",
   "nbconvert_exporter": "python",
   "pygments_lexer": "ipython3",
   "version": "3.7.7"
  }
 },
 "nbformat": 4,
 "nbformat_minor": 4
}
