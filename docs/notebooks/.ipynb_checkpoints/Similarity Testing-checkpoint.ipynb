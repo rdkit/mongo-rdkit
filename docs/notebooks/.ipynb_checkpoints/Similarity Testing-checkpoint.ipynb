{
 "cells": [
  {
   "cell_type": "markdown",
   "metadata": {},
   "source": [
    "# Similarity Search Benchmarking"
   ]
  },
  {
   "cell_type": "code",
   "execution_count": 1,
   "metadata": {},
   "outputs": [],
   "source": [
    "import mongordkit\n",
    "import time\n",
    "import pymongo\n",
    "import rdkit\n",
    "import matplotlib\n",
    "import matplotlib.pyplot as plt\n",
    "import numpy as np\n",
    "import pandas as pd\n",
    "from rdkit import Chem\n",
    "from statistics import mean\n",
    "import mongomock\n",
    "from rdkit.Chem import AllChem\n",
    "from mongordkit.Database import write\n",
    "from mongordkit.Search import similarity"
   ]
  },
  {
   "cell_type": "code",
   "execution_count": 2,
   "metadata": {},
   "outputs": [
    {
     "name": "stdout",
     "output_type": "stream",
     "text": [
      "populating mongodb collection with compounds from chembl...\n",
      "inserted chunk...\n",
      "inserted chunk...\n",
      "200 molecules successfully imported\n"
     ]
    },
    {
     "data": {
      "text/plain": [
       "200"
      ]
     },
     "execution_count": 2,
     "metadata": {},
     "output_type": "execute_result"
    }
   ],
   "source": [
    "#Create a mongomock database instance and write to it. \n",
    "client = mongomock.MongoClient()\n",
    "db = client.db\n",
    "\n",
    "#Write 200 molecules into the database\n",
    "write.writeFromSDF(db, '../../data/test_data/first_200.props.sdf', 'test')"
   ]
  },
  {
   "cell_type": "code",
   "execution_count": 3,
   "metadata": {},
   "outputs": [],
   "source": [
    "#Add Morgan fingerprints into the database\n",
    "similarity.addMorganFingerprints(db)"
   ]
  },
  {
   "cell_type": "code",
   "execution_count": 4,
   "metadata": {},
   "outputs": [
    {
     "data": {
      "text/plain": [
       "[[1.0, 'CC1=CC(=O)C=CC1=O']]"
      ]
     },
     "execution_count": 4,
     "metadata": {},
     "output_type": "execute_result"
    }
   ],
   "source": [
    "#Check that similarity search is working, at least for one molecule. \n",
    "doc = db.molecules.find_one()\n",
    "m = Chem.Mol(doc['rdmol'])\n",
    "results = similarity.similaritySearch(m, db, .8)\n",
    "results"
   ]
  },
  {
   "cell_type": "code",
   "execution_count": 14,
   "metadata": {},
   "outputs": [
    {
     "name": "stdout",
     "output_type": "stream",
     "text": [
      "populating mongodb collection with compounds from chembl...\n",
      "The specified setting does not exist. Will only insert default molecules\n",
      "inserted chunk...\n",
      "inserted chunk...\n",
      "1000 molecules successfully imported\n"
     ]
    },
    {
     "data": {
      "text/plain": [
       "1000"
      ]
     },
     "execution_count": 14,
     "metadata": {},
     "output_type": "execute_result"
    }
   ],
   "source": [
    "#Create a regular mongoDB database instance and write the first 1000 molecules to it. \n",
    "client = pymongo.MongoClient()\n",
    "db = client.db\n",
    "db.molecules.drop()\n",
    "db.mfp_counts.drop()\n",
    "write.writeFromSDF(db, '../../../chembl_27.sdf', 'test', reg_option='inchikey', index_option='inchikey', chunk_size=500, limit=500)"
   ]
  },
  {
   "cell_type": "code",
   "execution_count": 26,
   "metadata": {},
   "outputs": [],
   "source": [
    "similarity.addMorganFingerprints(db)"
   ]
  },
  {
   "cell_type": "code",
   "execution_count": null,
   "metadata": {},
   "outputs": [
    {
     "name": "stdout",
     "output_type": "stream",
     "text": [
      "Measuring performance for similarity threshold 0.7.\n"
     ]
    }
   ],
   "source": [
    "#Run benchmarks for similarity search with and without aggregation parameters. \n",
    "thresholds = [0.7, 0.75, 0.8, 0.85, 0.9, 0.95]\n",
    "times = []\n",
    "repetitions = 5\n",
    "for t in thresholds: \n",
    "    print(\"Measuring performance for similarity threshold {}.\".format(t))\n",
    "    temp_times = []\n",
    "    for r in range(repetitions):\n",
    "        start = time.time()\n",
    "        for m in db.molecules.find():\n",
    "            mol = Chem.Mol(m['rdmol'])\n",
    "            similarity.similaritySearchAggregate(mol, db, t)\n",
    "            print('working')\n",
    "        end = time.time()\n",
    "        temp_times.append(end - start)\n",
    "    times.append([t, mean(temp_times)])\n",
    "print(times)"
   ]
  },
  {
   "cell_type": "code",
   "execution_count": 25,
   "metadata": {},
   "outputs": [
    {
     "data": {
      "text/plain": [
       "[<matplotlib.lines.Line2D at 0x11d8b2450>]"
      ]
     },
     "execution_count": 25,
     "metadata": {},
     "output_type": "execute_result"
    },
    {
     "data": {
      "image/png": "[encoded data removed]",
      "text/plain": [
       "<Figure size 432x288 with 1 Axes>"
      ]
     },
     "metadata": {
      "needs_background": "light"
     },
     "output_type": "display_data"
    }
   ],
   "source": [
    "x_list = [v[0] for v in times]\n",
    "y_list = [v[1]*1000 for v in times]\n",
    "plt.xlabel('thresholds')\n",
    "plt.ylabel('time (ms)')\n",
    "plt.plot(x_list, y_list)"
   ]
  },
  {
   "cell_type": "code",
   "execution_count": null,
   "metadata": {},
   "outputs": [],
   "source": []
  }
 ],
 "metadata": {
  "kernelspec": {
   "display_name": "py37_rdkit_beta",
   "language": "python",
   "name": "py37_rdkit_beta"
  },
  "language_info": {
   "codemirror_mode": {
    "name": "ipython",
    "version": 3
   },
   "file_extension": ".py",
   "mimetype": "text/x-python",
   "name": "python",
   "nbconvert_exporter": "python",
   "pygments_lexer": "ipython3",
   "version": "3.7.7"
  }
 },
 "nbformat": 4,
 "nbformat_minor": 4
}
