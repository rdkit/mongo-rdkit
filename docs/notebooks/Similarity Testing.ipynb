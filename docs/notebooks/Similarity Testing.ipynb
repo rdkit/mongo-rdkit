{
 "cells": [
  {
   "cell_type": "markdown",
   "metadata": {},
   "source": [
    "# Similarity Search Benchmarking"
   ]
  },
  {
   "cell_type": "code",
   "execution_count": 1,
   "metadata": {},
   "outputs": [],
   "source": [
    "import mongordkit\n",
    "import time\n",
    "import pymongo\n",
    "import rdkit\n",
    "import matplotlib\n",
    "import matplotlib.pyplot as plt\n",
    "import numpy as np\n",
    "from os import sys\n",
    "import pandas as pd\n",
    "from rdkit import Chem\n",
    "from statistics import mean\n",
    "import mongomock\n",
    "from rdkit.Chem import AllChem\n",
    "from mongordkit.Database import write\n",
    "from mongordkit.Search import similarity"
   ]
  },
  {
   "cell_type": "code",
   "execution_count": 2,
   "metadata": {},
   "outputs": [
    {
     "name": "stdout",
     "output_type": "stream",
     "text": [
      "populating mongodb collection with compounds from chembl...\n",
      "inserted chunk...\n",
      "inserted chunk...\n",
      "200 molecules successfully imported\n"
     ]
    },
    {
     "data": {
      "text/plain": [
       "{'index': 'VTWDKFNVVLAELH-UHFFFAOYSA-N',\n",
       " 'smiles': 'CC1=CC(=O)C=CC1=O',\n",
       " 'rdmol': Binary(b'\\xef\\xbe\\xad\\xde\\x00\\x00\\x00\\x00\\x0b\\x00\\x00\\x00\\x00\\x00\\x00\\x00\\x00\\x00\\x00\\x00\\t\\x00\\x00\\x00\\t\\x00\\x00\\x00\\x80\\x01\\x06\\x00`\\x00\\x00\\x00\\x01\\x03\\x06\\x00(\\x00\\x00\\x00\\x03\\x04\\x06\\x00h\\x00\\x00\\x00\\x03\\x03\\x01\\x06\\x00(\\x00\\x00\\x00\\x03\\x04\\x08\\x00(\\x00\\x00\\x00\\x03\\x02\\x06\\x00h\\x00\\x00\\x00\\x03\\x03\\x01\\x06\\x00h\\x00\\x00\\x00\\x03\\x03\\x01\\x06\\x00(\\x00\\x00\\x00\\x03\\x04\\x08\\x00(\\x00\\x00\\x00\\x03\\x02\\x0b\\x00\\x01\\x00\\x01\\x07 \\x01\\x02.\\x02\\x05\\x01\\x00\\x02\\x03 \\x03\\x04(\\x02\\x03\\x05 \\x05\\x06.\\x02\\x05\\x01\\x00\\x06\\x07 \\x07\\x08(\\x02\\x14\\x01\\x06\\x01\\x02\\x03\\x05\\x06\\x07\\x17\\x01\\x00\\x00\\x00\\x00\\x00\\x00\\x00\\x00\\t\\\\\\x8f\\x82\\xbf\\n\\xd7\\xc3?\\x00\\x00\\x00\\x00\\\\\\x8f\\x02\\xbfq=\\x1a@\\x00\\x00\\x00\\x00\\x00\\x00\\x00?\\xc3\\xf5\\x18@\\x00\\x00\\x00\\x00\\x00\\x00\\x80?\\xaeGQ@\\x00\\x00\\x00\\x00\\x85\\xeb\\x01@\\xaeGQ@\\x00\\x00\\x00\\x00\\x00\\x00\\x00?\\xcd\\xcc\\x84@\\x00\\x00\\x00\\x00\\x00\\x00\\x00\\xbf\\xcd\\xcc\\x84@\\x00\\x00\\x00\\x00\\xaeG\\x81\\xbf\\x85\\xebQ@\\x00\\x00\\x00\\x00\\x85\\xeb\\x01\\xc0\\x85\\xebQ@\\x00\\x00\\x00\\x00\\x16', 0),\n",
       " 'registration_setting': 'standard_setting',\n",
       " '_id': ObjectId('5f0be21c785a76497c7bf76b')}"
      ]
     },
     "execution_count": 2,
     "metadata": {},
     "output_type": "execute_result"
    }
   ],
   "source": [
    "#Create a mongomock database instance and write to it. \n",
    "client = mongomock.MongoClient()\n",
    "db = client.db\n",
    "\n",
    "#Write 200 molecules into the database\n",
    "write.writeFromSDF(db, '../../data/test_data/first_200.props.sdf', 'test')\n",
    "doc = db.molecules.find_one()\n",
    "m = Chem.Mol(doc['rdmol'])\n",
    "similarity.similaritySearch(m, db)\n",
    "doc"
   ]
  },
  {
   "cell_type": "code",
   "execution_count": 3,
   "metadata": {},
   "outputs": [],
   "source": [
    "#Add Morgan fingerprints into the database\n",
    "similarity.addMorganFingerprints(db)"
   ]
  },
  {
   "cell_type": "code",
   "execution_count": 14,
   "metadata": {},
   "outputs": [
    {
     "data": {
      "text/plain": [
       "[]"
      ]
     },
     "execution_count": 14,
     "metadata": {},
     "output_type": "execute_result"
    }
   ],
   "source": [
    "#Check that similarity search is working, at least for one molecule. \n",
    "doc = db.molecules.find_one()\n",
    "m = Chem.Mol(doc['rdmol'])\n",
    "results = similarity.similaritySearch(m, db, .8)\n",
    "results"
   ]
  },
  {
   "cell_type": "code",
   "execution_count": 4,
   "metadata": {},
   "outputs": [
    {
     "name": "stdout",
     "output_type": "stream",
     "text": [
      "populating mongodb collection with compounds from chembl...\n",
      "inserted chunk...\n",
      "inserted chunk...\n",
      "1000 molecules successfully imported\n"
     ]
    },
    {
     "data": {
      "text/plain": [
       "1000"
      ]
     },
     "execution_count": 4,
     "metadata": {},
     "output_type": "execute_result"
    }
   ],
   "source": [
    "#Create a regular mongoDB database instance and write the first 1000 molecules to it. \n",
    "client = pymongo.MongoClient()\n",
    "db = client.db\n",
    "db.molecules.drop()\n",
    "db.mfp_counts.drop()\n",
    "write.writeFromSDF(db, '../../../chembl_27.sdf', 'test', reg_option='standard_setting', index_option='inchikey', chunk_size=500, limit=500)"
   ]
  },
  {
   "cell_type": "code",
   "execution_count": 9,
   "metadata": {},
   "outputs": [],
   "source": [
    "def calc_tanimoto(Na, Nb):\n",
    "    Nab = len(set(Na).intersection((set(Nb))))\n",
    "    return float(Nab) / (len(Na) + len(Nb) - Nab)\n",
    "\n",
    "def similarity_search_naive(query_mol, db, threshold): \n",
    "    results = []\n",
    "    qfp = list(AllChem.GetMorganFingerprintAsBitVect(query_mol, 2, nBits=1024).GetOnBits())\n",
    "    for mol in db.molecules.find():\n",
    "        mfp = list(AllChem.GetMorganFingerprintAsBitVect(Chem.Mol(mol['rdmol']), 2, nBits=1024).GetOnBits())\n",
    "        tanimoto = calc_tanimoto(qfp, mfp)\n",
    "        if calc_tanimoto(qfp, mfp) >= threshold:\n",
    "            results.append([tanimoto, mol['smiles']])\n",
    "    return results"
   ]
  },
  {
   "cell_type": "code",
   "execution_count": 6,
   "metadata": {},
   "outputs": [
    {
     "name": "stdout",
     "output_type": "stream",
     "text": [
      "Measuring performance for similarity threshold 0.7.\n",
      "Measuring performance for similarity threshold 0.75.\n",
      "Measuring performance for similarity threshold 0.8.\n",
      "Measuring performance for similarity threshold 0.85.\n",
      "Measuring performance for similarity threshold 0.9.\n",
      "Measuring performance for similarity threshold 0.95.\n",
      "[[0.7, 3.236401987075806], [0.75, 2.964214563369751], [0.8, 2.850223159790039], [0.85, 2.716036558151245], [0.9, 2.50888934135437], [0.95, 2.7822859287261963]]\n",
      "Measuring performance for similarity threshold 0.7.\n"
     ]
    },
    {
     "ename": "NameError",
     "evalue": "name 'query_mol' is not defined",
     "output_type": "error",
     "traceback": [
      "\u001b[0;31m---------------------------------------------------------------------------\u001b[0m",
      "\u001b[0;31mNameError\u001b[0m                                 Traceback (most recent call last)",
      "\u001b[0;32m<ipython-input-6-b9eebeb2f0df>\u001b[0m in \u001b[0;36m<module>\u001b[0;34m\u001b[0m\n\u001b[1;32m     23\u001b[0m         \u001b[0;32mfor\u001b[0m \u001b[0mm\u001b[0m \u001b[0;32min\u001b[0m \u001b[0mdb\u001b[0m\u001b[0;34m.\u001b[0m\u001b[0mmolecules\u001b[0m\u001b[0;34m.\u001b[0m\u001b[0mfind\u001b[0m\u001b[0;34m(\u001b[0m\u001b[0;34m)\u001b[0m\u001b[0;34m:\u001b[0m\u001b[0;34m\u001b[0m\u001b[0;34m\u001b[0m\u001b[0m\n\u001b[1;32m     24\u001b[0m             \u001b[0mmol\u001b[0m \u001b[0;34m=\u001b[0m \u001b[0mChem\u001b[0m\u001b[0;34m.\u001b[0m\u001b[0mMol\u001b[0m\u001b[0;34m(\u001b[0m\u001b[0mm\u001b[0m\u001b[0;34m[\u001b[0m\u001b[0;34m'rdmol'\u001b[0m\u001b[0;34m]\u001b[0m\u001b[0;34m)\u001b[0m\u001b[0;34m\u001b[0m\u001b[0;34m\u001b[0m\u001b[0m\n\u001b[0;32m---> 25\u001b[0;31m             \u001b[0m_\u001b[0m \u001b[0;34m=\u001b[0m \u001b[0msimilarity_search_naive\u001b[0m\u001b[0;34m(\u001b[0m\u001b[0mmol\u001b[0m\u001b[0;34m,\u001b[0m \u001b[0mdb\u001b[0m\u001b[0;34m,\u001b[0m \u001b[0mt\u001b[0m\u001b[0;34m)\u001b[0m\u001b[0;34m\u001b[0m\u001b[0;34m\u001b[0m\u001b[0m\n\u001b[0m\u001b[1;32m     26\u001b[0m         \u001b[0mend\u001b[0m \u001b[0;34m=\u001b[0m \u001b[0mtime\u001b[0m\u001b[0;34m.\u001b[0m\u001b[0mtime\u001b[0m\u001b[0;34m(\u001b[0m\u001b[0;34m)\u001b[0m\u001b[0;34m\u001b[0m\u001b[0;34m\u001b[0m\u001b[0m\n\u001b[1;32m     27\u001b[0m         \u001b[0mtemp_times\u001b[0m\u001b[0;34m.\u001b[0m\u001b[0mappend\u001b[0m\u001b[0;34m(\u001b[0m\u001b[0mend\u001b[0m \u001b[0;34m-\u001b[0m \u001b[0mstart\u001b[0m\u001b[0;34m)\u001b[0m\u001b[0;34m\u001b[0m\u001b[0;34m\u001b[0m\u001b[0m\n",
      "\u001b[0;32m<ipython-input-5-db4606031a72>\u001b[0m in \u001b[0;36msimilarity_search_naive\u001b[0;34m(mol, db, t)\u001b[0m\n\u001b[1;32m      5\u001b[0m \u001b[0;32mdef\u001b[0m \u001b[0msimilarity_search_naive\u001b[0m\u001b[0;34m(\u001b[0m\u001b[0mmol\u001b[0m\u001b[0;34m,\u001b[0m \u001b[0mdb\u001b[0m\u001b[0;34m,\u001b[0m \u001b[0mt\u001b[0m\u001b[0;34m)\u001b[0m\u001b[0;34m:\u001b[0m\u001b[0;34m\u001b[0m\u001b[0;34m\u001b[0m\u001b[0m\n\u001b[1;32m      6\u001b[0m     \u001b[0mresults\u001b[0m \u001b[0;34m=\u001b[0m \u001b[0;34m[\u001b[0m\u001b[0;34m]\u001b[0m\u001b[0;34m\u001b[0m\u001b[0;34m\u001b[0m\u001b[0m\n\u001b[0;32m----> 7\u001b[0;31m     \u001b[0mqfp\u001b[0m \u001b[0;34m=\u001b[0m \u001b[0mlist\u001b[0m\u001b[0;34m(\u001b[0m\u001b[0mAllChem\u001b[0m\u001b[0;34m.\u001b[0m\u001b[0mGetMorganFingerprintAsBitVect\u001b[0m\u001b[0;34m(\u001b[0m\u001b[0mquery_mol\u001b[0m\u001b[0;34m,\u001b[0m \u001b[0;36m2\u001b[0m\u001b[0;34m,\u001b[0m \u001b[0mnBits\u001b[0m\u001b[0;34m=\u001b[0m\u001b[0;36m1024\u001b[0m\u001b[0;34m)\u001b[0m\u001b[0;34m.\u001b[0m\u001b[0mGetOnBits\u001b[0m\u001b[0;34m(\u001b[0m\u001b[0;34m)\u001b[0m\u001b[0;34m)\u001b[0m\u001b[0;34m\u001b[0m\u001b[0;34m\u001b[0m\u001b[0m\n\u001b[0m\u001b[1;32m      8\u001b[0m     \u001b[0;32mfor\u001b[0m \u001b[0mmol\u001b[0m \u001b[0;32min\u001b[0m \u001b[0mdb\u001b[0m\u001b[0;34m.\u001b[0m\u001b[0mmolecules\u001b[0m\u001b[0;34m.\u001b[0m\u001b[0mfind\u001b[0m\u001b[0;34m(\u001b[0m\u001b[0;34m)\u001b[0m\u001b[0;34m:\u001b[0m\u001b[0;34m\u001b[0m\u001b[0;34m\u001b[0m\u001b[0m\n\u001b[1;32m      9\u001b[0m         \u001b[0mmfp\u001b[0m \u001b[0;34m=\u001b[0m \u001b[0mlist\u001b[0m\u001b[0;34m(\u001b[0m\u001b[0mAllChem\u001b[0m\u001b[0;34m.\u001b[0m\u001b[0mGetMorganFingerprintAsBitVect\u001b[0m\u001b[0;34m(\u001b[0m\u001b[0mChem\u001b[0m\u001b[0;34m.\u001b[0m\u001b[0mMol\u001b[0m\u001b[0;34m(\u001b[0m\u001b[0mmol\u001b[0m\u001b[0;34m[\u001b[0m\u001b[0;34m'rdmol'\u001b[0m\u001b[0;34m]\u001b[0m\u001b[0;34m)\u001b[0m\u001b[0;34m,\u001b[0m \u001b[0;36m2\u001b[0m\u001b[0;34m,\u001b[0m \u001b[0mnBits\u001b[0m\u001b[0;34m=\u001b[0m\u001b[0;36m1024\u001b[0m\u001b[0;34m)\u001b[0m\u001b[0;34m.\u001b[0m\u001b[0mGetOnBits\u001b[0m\u001b[0;34m(\u001b[0m\u001b[0;34m)\u001b[0m\u001b[0;34m)\u001b[0m\u001b[0;34m\u001b[0m\u001b[0;34m\u001b[0m\u001b[0m\n",
      "\u001b[0;31mNameError\u001b[0m: name 'query_mol' is not defined"
     ]
    }
   ],
   "source": [
    "#Run benchmarks for similarity search with and without aggregation parameters, then with LSH + aggregation. \n",
    "thresholds = [0.7, 0.75, 0.8, 0.85, 0.9, 0.95]\n",
    "times = []\n",
    "repetitions = 5\n",
    "for t in thresholds: \n",
    "    print(\"Measuring performance for similarity threshold {}.\".format(t))\n",
    "    temp_times = []\n",
    "    for r in range(repetitions):\n",
    "        start = time.time()\n",
    "        for m in db.molecules.find():\n",
    "            mol = Chem.Mol(m['rdmol'])\n",
    "            _ = similarity.similaritySearch(mol, db, t)\n",
    "        end = time.time()\n",
    "        temp_times.append(end - start)\n",
    "    times.append([t, mean(temp_times)])\n",
    "print(times)\n"
   ]
  },
  {
   "cell_type": "code",
   "execution_count": 17,
   "metadata": {},
   "outputs": [
    {
     "name": "stdout",
     "output_type": "stream",
     "text": [
      "Measuring performance for similarity threshold 0.7.\n",
      "Measuring performance for similarity threshold 0.75.\n"
     ]
    },
    {
     "ename": "KeyboardInterrupt",
     "evalue": "",
     "output_type": "error",
     "traceback": [
      "\u001b[0;31m---------------------------------------------------------------------------\u001b[0m",
      "\u001b[0;31mKeyboardInterrupt\u001b[0m                         Traceback (most recent call last)",
      "\u001b[0;32m<ipython-input-17-4768984e0bea>\u001b[0m in \u001b[0;36m<module>\u001b[0;34m\u001b[0m\n\u001b[1;32m      9\u001b[0m                 \u001b[0;32mbreak\u001b[0m\u001b[0;34m\u001b[0m\u001b[0;34m\u001b[0m\u001b[0m\n\u001b[1;32m     10\u001b[0m             \u001b[0mmol\u001b[0m \u001b[0;34m=\u001b[0m \u001b[0mChem\u001b[0m\u001b[0;34m.\u001b[0m\u001b[0mMol\u001b[0m\u001b[0;34m(\u001b[0m\u001b[0mm\u001b[0m\u001b[0;34m[\u001b[0m\u001b[0;34m'rdmol'\u001b[0m\u001b[0;34m]\u001b[0m\u001b[0;34m)\u001b[0m\u001b[0;34m\u001b[0m\u001b[0;34m\u001b[0m\u001b[0m\n\u001b[0;32m---> 11\u001b[0;31m             \u001b[0m_\u001b[0m \u001b[0;34m=\u001b[0m \u001b[0msimilarity_search_naive\u001b[0m\u001b[0;34m(\u001b[0m\u001b[0mmol\u001b[0m\u001b[0;34m,\u001b[0m \u001b[0mdb\u001b[0m\u001b[0;34m,\u001b[0m \u001b[0mt\u001b[0m\u001b[0;34m)\u001b[0m\u001b[0;34m\u001b[0m\u001b[0;34m\u001b[0m\u001b[0m\n\u001b[0m\u001b[1;32m     12\u001b[0m             \u001b[0mcounter\u001b[0m \u001b[0;34m+=\u001b[0m \u001b[0;36m1\u001b[0m\u001b[0;34m\u001b[0m\u001b[0;34m\u001b[0m\u001b[0m\n\u001b[1;32m     13\u001b[0m         \u001b[0mend\u001b[0m \u001b[0;34m=\u001b[0m \u001b[0mtime\u001b[0m\u001b[0;34m.\u001b[0m\u001b[0mtime\u001b[0m\u001b[0;34m(\u001b[0m\u001b[0;34m)\u001b[0m\u001b[0;34m\u001b[0m\u001b[0;34m\u001b[0m\u001b[0m\n",
      "\u001b[0;32m<ipython-input-9-830cab6933f6>\u001b[0m in \u001b[0;36msimilarity_search_naive\u001b[0;34m(query_mol, db, threshold)\u001b[0m\n\u001b[1;32m      7\u001b[0m     \u001b[0mqfp\u001b[0m \u001b[0;34m=\u001b[0m \u001b[0mlist\u001b[0m\u001b[0;34m(\u001b[0m\u001b[0mAllChem\u001b[0m\u001b[0;34m.\u001b[0m\u001b[0mGetMorganFingerprintAsBitVect\u001b[0m\u001b[0;34m(\u001b[0m\u001b[0mquery_mol\u001b[0m\u001b[0;34m,\u001b[0m \u001b[0;36m2\u001b[0m\u001b[0;34m,\u001b[0m \u001b[0mnBits\u001b[0m\u001b[0;34m=\u001b[0m\u001b[0;36m1024\u001b[0m\u001b[0;34m)\u001b[0m\u001b[0;34m.\u001b[0m\u001b[0mGetOnBits\u001b[0m\u001b[0;34m(\u001b[0m\u001b[0;34m)\u001b[0m\u001b[0;34m)\u001b[0m\u001b[0;34m\u001b[0m\u001b[0;34m\u001b[0m\u001b[0m\n\u001b[1;32m      8\u001b[0m     \u001b[0;32mfor\u001b[0m \u001b[0mmol\u001b[0m \u001b[0;32min\u001b[0m \u001b[0mdb\u001b[0m\u001b[0;34m.\u001b[0m\u001b[0mmolecules\u001b[0m\u001b[0;34m.\u001b[0m\u001b[0mfind\u001b[0m\u001b[0;34m(\u001b[0m\u001b[0;34m)\u001b[0m\u001b[0;34m:\u001b[0m\u001b[0;34m\u001b[0m\u001b[0;34m\u001b[0m\u001b[0m\n\u001b[0;32m----> 9\u001b[0;31m         \u001b[0mmfp\u001b[0m \u001b[0;34m=\u001b[0m \u001b[0mlist\u001b[0m\u001b[0;34m(\u001b[0m\u001b[0mAllChem\u001b[0m\u001b[0;34m.\u001b[0m\u001b[0mGetMorganFingerprintAsBitVect\u001b[0m\u001b[0;34m(\u001b[0m\u001b[0mChem\u001b[0m\u001b[0;34m.\u001b[0m\u001b[0mMol\u001b[0m\u001b[0;34m(\u001b[0m\u001b[0mmol\u001b[0m\u001b[0;34m[\u001b[0m\u001b[0;34m'rdmol'\u001b[0m\u001b[0;34m]\u001b[0m\u001b[0;34m)\u001b[0m\u001b[0;34m,\u001b[0m \u001b[0;36m2\u001b[0m\u001b[0;34m,\u001b[0m \u001b[0mnBits\u001b[0m\u001b[0;34m=\u001b[0m\u001b[0;36m1024\u001b[0m\u001b[0;34m)\u001b[0m\u001b[0;34m.\u001b[0m\u001b[0mGetOnBits\u001b[0m\u001b[0;34m(\u001b[0m\u001b[0;34m)\u001b[0m\u001b[0;34m)\u001b[0m\u001b[0;34m\u001b[0m\u001b[0;34m\u001b[0m\u001b[0m\n\u001b[0m\u001b[1;32m     10\u001b[0m         \u001b[0mtanimoto\u001b[0m \u001b[0;34m=\u001b[0m \u001b[0mcalc_tanimoto\u001b[0m\u001b[0;34m(\u001b[0m\u001b[0mqfp\u001b[0m\u001b[0;34m,\u001b[0m \u001b[0mmfp\u001b[0m\u001b[0;34m)\u001b[0m\u001b[0;34m\u001b[0m\u001b[0;34m\u001b[0m\u001b[0m\n\u001b[1;32m     11\u001b[0m         \u001b[0;32mif\u001b[0m \u001b[0mcalc_tanimoto\u001b[0m\u001b[0;34m(\u001b[0m\u001b[0mqfp\u001b[0m\u001b[0;34m,\u001b[0m \u001b[0mmfp\u001b[0m\u001b[0;34m)\u001b[0m \u001b[0;34m>=\u001b[0m \u001b[0mthreshold\u001b[0m\u001b[0;34m:\u001b[0m\u001b[0;34m\u001b[0m\u001b[0;34m\u001b[0m\u001b[0m\n",
      "\u001b[0;31mKeyboardInterrupt\u001b[0m: "
     ]
    }
   ],
   "source": [
    "for t in thresholds: \n",
    "    print(\"Measuring performance for similarity threshold {}.\".format(t))\n",
    "    temp_times = []\n",
    "    for r in range(5):\n",
    "        start = time.time()\n",
    "        counter = 0\n",
    "        for m in db.molecules.find():\n",
    "            if counter > 100: \n",
    "                break\n",
    "            mol = Chem.Mol(m['rdmol'])\n",
    "            _ = similarity_search_naive(mol, db, t)\n",
    "            counter += 1\n",
    "        end = time.time()\n",
    "        temp_times.append(end - start)\n",
    "    times.append([t, mean(temp_times)])\n",
    "print(times)"
   ]
  },
  {
   "cell_type": "code",
   "execution_count": 40,
   "metadata": {},
   "outputs": [
    {
     "data": {
      "text/plain": [
       "[<matplotlib.lines.Line2D at 0x11ca43dd0>]"
      ]
     },
     "execution_count": 40,
     "metadata": {},
     "output_type": "execute_result"
    },
    {
     "data": {
      "image/png": "[encoded data removed]",
      "text/plain": [
       "<Figure size 432x288 with 1 Axes>"
      ]
     },
     "metadata": {
      "needs_background": "light"
     },
     "output_type": "display_data"
    }
   ],
   "source": [
    "x_list = [v[0] for v in times]\n",
    "y_list = [v[1]*1000 for v in times]\n",
    "plt.xlabel('thresholds')\n",
    "plt.ylabel('time (ms)')\n",
    "plt.title('Without Aggregation')\n",
    "plt.plot(x_list, y_list)"
   ]
  },
  {
   "cell_type": "code",
   "execution_count": 41,
   "metadata": {},
   "outputs": [
    {
     "name": "stdout",
     "output_type": "stream",
     "text": [
      "Measuring performance for similarity threshold 0.7.\n",
      "Measuring performance for similarity threshold 0.75.\n",
      "Measuring performance for similarity threshold 0.8.\n",
      "Measuring performance for similarity threshold 0.85.\n",
      "Measuring performance for similarity threshold 0.9.\n",
      "Measuring performance for similarity threshold 0.95.\n",
      "[[0.7, 6.002911186218261], [0.75, 5.983159065246582], [0.8, 5.641262626647949], [0.85, 5.888340759277344], [0.9, 6.869273900985718], [0.95, 5.446581506729126]]\n"
     ]
    },
    {
     "data": {
      "text/plain": [
       "[<matplotlib.lines.Line2D at 0x11ca16110>]"
      ]
     },
     "execution_count": 41,
     "metadata": {},
     "output_type": "execute_result"
    },
    {
     "data": {
      "image/png": "[encoded data removed]",
      "text/plain": [
       "<Figure size 432x288 with 1 Axes>"
      ]
     },
     "metadata": {
      "needs_background": "light"
     },
     "output_type": "display_data"
    }
   ],
   "source": [
    "thresholds = [0.7, 0.75, 0.8, 0.85, 0.9, 0.95]\n",
    "times = []\n",
    "repetitions = 5\n",
    "for t in thresholds: \n",
    "    print(\"Measuring performance for similarity threshold {}.\".format(t))\n",
    "    temp_times = []\n",
    "    for r in range(repetitions):\n",
    "        start = time.time()\n",
    "        for m in db.molecules.find():\n",
    "            mol = Chem.Mol(m['rdmol'])\n",
    "            _ = similarity.similaritySearchAggregate(mol, db, t)\n",
    "        end = time.time()\n",
    "        temp_times.append(end - start)\n",
    "    times.append([t, mean(temp_times)])\n",
    "print(times)\n",
    "x_list = [v[0] for v in times]\n",
    "y_list = [v[1]*1000 for v in times]\n",
    "plt.xlabel('thresholds')\n",
    "plt.ylabel('time (ms)')\n",
    "plt.title('With Aggregation')\n",
    "plt.plot(x_list, y_list)"
   ]
  },
  {
   "cell_type": "code",
   "execution_count": 42,
   "metadata": {},
   "outputs": [
    {
     "name": "stdout",
     "output_type": "stream",
     "text": [
      "populating mongodb collection with compounds from chembl...\n",
      "The specified setting does not exist. Will only insert default molecules\n",
      "inserted chunk...\n",
      "inserted chunk...\n",
      "1000 molecules successfully imported\n"
     ]
    }
   ],
   "source": [
    "db.molecules.drop()\n",
    "db.mfp_counts.drop()\n",
    "write.writeFromSDF(db, '../../../chembl_27.sdf', 'test', reg_option='inchikey', index_option='inchikey', chunk_size=500, limit=500)\n",
    "similarity.addMorganFingerprints(db)"
   ]
  },
  {
   "cell_type": "code",
   "execution_count": 47,
   "metadata": {},
   "outputs": [
    {
     "name": "stdout",
     "output_type": "stream",
     "text": [
      "Measuring performance for similarity threshold 0.7.\n",
      "Measuring performance for similarity threshold 0.75.\n",
      "Measuring performance for similarity threshold 0.8.\n",
      "Measuring performance for similarity threshold 0.85.\n",
      "Measuring performance for similarity threshold 0.9.\n",
      "Measuring performance for similarity threshold 0.95.\n",
      "[[0.7, 0.0038346290588378907], [0.75, 0.003863954544067383], [0.8, 0.00497593879699707], [0.85, 0.00534672737121582], [0.9, 0.004187107086181641], [0.95, 0.006510639190673828]]\n"
     ]
    },
    {
     "data": {
      "text/plain": [
       "[<matplotlib.lines.Line2D at 0x11d3a60d0>]"
      ]
     },
     "execution_count": 47,
     "metadata": {},
     "output_type": "execute_result"
    },
    {
     "data": {
      "image/png": "[encoded data removed]",
      "text/plain": [
       "<Figure size 432x288 with 1 Axes>"
      ]
     },
     "metadata": {
      "needs_background": "light"
     },
     "output_type": "display_data"
    }
   ],
   "source": [
    "#Compute benchmarks with a fingerprint counts collection.\n",
    "thresholds = [0.7, 0.75, 0.8, 0.85, 0.9, 0.95]\n",
    "times = []\n",
    "repetitions = 5\n",
    "for t in thresholds: \n",
    "    print(\"Measuring performance for similarity threshold {}.\".format(t))\n",
    "    temp_times = []\n",
    "    for r in range(repetitions):\n",
    "        start = time.time()\n",
    "        for m in db.molecules.find():\n",
    "            mol = Chem.Mol(m['rdmol'])\n",
    "            _ = similarity.similaritySearch(mol, db, t)\n",
    "        end = time.time()\n",
    "        temp_times.append(end - start)\n",
    "    times.append([t, mean(temp_times)])\n",
    "print(times)\n",
    "x_list = [v[0] for v in times]\n",
    "y_list = [v[1]*1000 for v in times]\n",
    "plt.xlabel('thresholds')\n",
    "plt.ylabel('time (ms)')\n",
    "plt.title('Without Aggregation')\n",
    "plt.plot(x_list, y_list)"
   ]
  },
  {
   "cell_type": "code",
   "execution_count": 45,
   "metadata": {},
   "outputs": [
    {
     "name": "stdout",
     "output_type": "stream",
     "text": [
      "Measuring performance for similarity threshold 0.7.\n",
      "Measuring performance for similarity threshold 0.75.\n",
      "Measuring performance for similarity threshold 0.8.\n",
      "Measuring performance for similarity threshold 0.85.\n",
      "Measuring performance for similarity threshold 0.9.\n",
      "Measuring performance for similarity threshold 0.95.\n",
      "[[0.7, 0.009987068176269532], [0.75, 0.0059474468231201175], [0.8, 0.005334234237670899], [0.85, 0.0038384437561035157], [0.9, 0.0040286540985107425], [0.95, 0.0037296295166015627]]\n"
     ]
    },
    {
     "data": {
      "text/plain": [
       "[<matplotlib.lines.Line2D at 0x11d73ee90>]"
      ]
     },
     "execution_count": 45,
     "metadata": {},
     "output_type": "execute_result"
    },
    {
     "data": {
      "image/png": "[encoded data removed]",
      "text/plain": [
       "<Figure size 432x288 with 1 Axes>"
      ]
     },
     "metadata": {
      "needs_background": "light"
     },
     "output_type": "display_data"
    }
   ],
   "source": [
    "times = []\n",
    "for t in thresholds: \n",
    "    print(\"Measuring performance for similarity threshold {}.\".format(t))\n",
    "    temp_times = []\n",
    "    for r in range(repetitions):\n",
    "        start = time.time()\n",
    "        for m in db.molecules.find():\n",
    "            mol = Chem.Mol(m['rdmol'])\n",
    "            _ = similarity.similaritySearchAggregate(mol, db, t)\n",
    "        end = time.time()\n",
    "        temp_times.append(end - start)\n",
    "    times.append([t, mean(temp_times)])\n",
    "print(times)\n",
    "x_list = [v[0] for v in times]\n",
    "y_list = [v[1]*1000 for v in times]\n",
    "plt.xlabel('thresholds')\n",
    "plt.ylabel('time (ms)')\n",
    "plt.title('Without Aggregation')\n",
    "plt.plot(x_list, y_list)"
   ]
  },
  {
   "cell_type": "code",
   "execution_count": null,
   "metadata": {},
   "outputs": [],
   "source": []
  }
 ],
 "metadata": {
  "kernelspec": {
   "display_name": "py37_rdkit_beta",
   "language": "python",
   "name": "py37_rdkit_beta"
  },
  "language_info": {
   "codemirror_mode": {
    "name": "ipython",
    "version": 3
   },
   "file_extension": ".py",
   "mimetype": "text/x-python",
   "name": "python",
   "nbconvert_exporter": "python",
   "pygments_lexer": "ipython3",
   "version": "3.7.7"
  }
 },
 "nbformat": 4,
 "nbformat_minor": 4
}
