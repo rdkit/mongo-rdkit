{
 "cells": [
  {
   "cell_type": "markdown",
   "metadata": {},
   "source": [
    "# Creating and Writing to MongoDB\n",
    "\n",
    "Last updated: 7/12/20\n",
    "\n",
    "Methods that directly modify MongoDB database instances are included in the `mongordkit.Database` module.\n",
    "\n",
    "\n",
    "\n"
   ]
  },
  {
   "cell_type": "code",
   "execution_count": null,
   "metadata": {},
   "outputs": [],
   "source": [
    "from mongordkit.Database import create, write, utils\n",
    "import pymongo"
   ]
  },
  {
   "cell_type": "markdown",
   "metadata": {},
   "source": [
    "## Reset Cells\n",
    "Run the contents of this cell to reset the local MongoDB database used in this notebook."
   ]
  },
  {
   "cell_type": "code",
   "execution_count": null,
   "metadata": {},
   "outputs": [],
   "source": [
    "client = pymongo.MongoClient()\n",
    "print(client.list_database_names())\n",
    "client.drop_database('TestDatabase')\n",
    "print(client.list_database_names())"
   ]
  },
  {
   "cell_type": "markdown",
   "metadata": {},
   "source": [
    "## Creating Databases\n",
    "Users can opt to bring their own database instances, but `Database.create` provides methods that will create ready-made MongoDB instances, defaulting to your local MongoDB:"
   ]
  },
  {
   "cell_type": "code",
   "execution_count": null,
   "metadata": {},
   "outputs": [],
   "source": [
    "# Return a database using a host port, such as the local port:\n",
    "TestDB = create.createFromHostPort('TestDatabase', host='localhost', port=27017)\n",
    "\n",
    "# Return a database using a MongoDB URI, such as that provided by Atlas:\n",
    "TestDB = create.createFromURL('TestDatabase', url=None)"
   ]
  },
  {
   "cell_type": "markdown",
   "metadata": {},
   "source": [
    "These databases are created with a `registration` collection. The registration collection includes several documents that consist of common pre-made settings, with the default being `STANDARD_SETTING`. All settings are documented in `Database.utils`."
   ]
  },
  {
   "cell_type": "code",
   "execution_count": null,
   "metadata": {},
   "outputs": [],
   "source": [
    "print(utils.STANDARD_SETTING)"
   ]
  },
  {
   "cell_type": "markdown",
   "metadata": {},
   "source": [
    "## Writing to a Database\n",
    "`Database.write` provides write functionality. Its core method is `writeFromSDF`, which relies on rdkit's `ForwardSDMolSupplier` to write data from an SDF file into a specified database.\n",
    "\n",
    "For each molecule in the SDF, `writeFromSDF` inserts a document containing at the minimum a unique identifying index, that molecule's SMILES, a pickle of the molecule's rdmol, and a field that specifies the registration option used to store the molecule."
   ]
  },
  {
   "cell_type": "code",
   "execution_count": null,
   "metadata": {},
   "outputs": [],
   "source": [
    "# Write the contents of first_200_props.sdf, a test dataset, into the TestDatabase created above. \n",
    "# The index will default to the molecule's inchikey.\n",
    "# Return the number of molecules succesfully imported.\n",
    "write.writeFromSDF(TestDB, '../../data/test_data/first_200.props.sdf', 'test')"
   ]
  },
  {
   "cell_type": "markdown",
   "metadata": {},
   "source": [
    "The above call is the most basic version of `writeFromSDF`. For additional flexibility, `writeFromSDF` takes several optional arguments that allow users to specify how inbound molecules should be standardized, a field relating to the data's origin, customize the index, and change how many molecules are inserted into the database at a time. "
   ]
  },
  {
   "cell_type": "code",
   "execution_count": null,
   "metadata": {},
   "outputs": [],
   "source": [
    "# Write the contents of first_200_props.sdf, a test dataset, into the TestDatabase created above. \n",
    "# This write will use canonical SMILES as the identifying index and thus does not conflict with the above write. \n",
    "# If we had used inchikey again, the write would have imported 0 molecules.\n",
    "write.writeFromSDF(TestDB, '../../data/test_data/first_200.props.sdf', 'test', reg_option='standard_setting', index_option='canonical_smiles', chunk_size=100, limit=None)"
   ]
  },
  {
   "cell_type": "markdown",
   "metadata": {},
   "source": [
    "In order to maintain consistency, the registration options and index options are drawn from a set of predetermined options specified in `Database.utils`."
   ]
  },
  {
   "cell_type": "markdown",
   "metadata": {},
   "source": [
    "## `.create` Module Contents\n",
    "\n",
    "mongordkit.Database.create.**createFromHostPort**(database_name, host=None (*string*), port=None (*string*)) --> *a MongoDB database instance named database_name*\n",
    "\n",
    "mongordkit.Database.create.**createFromURL**(database_name, url=None (*string*)) --> *a MongoDB database instance named database_name*"
   ]
  },
  {
   "cell_type": "markdown",
   "metadata": {},
   "source": [
    "## `.write` Module Contents"
   ]
  },
  {
   "cell_type": "markdown",
   "metadata": {},
   "source": [
    "mongordkit.Database.write.**writeFromSDF**(database, source_sdf, source_name *(string)*, reg_option=\"standard_setting\", index_option=\"inchikey\", chunk_size=100, limit=None) --> *int: number of molecules imported*"
   ]
  },
  {
   "cell_type": "markdown",
   "metadata": {},
   "source": [
    "As of 7/15/20, `writeFromSDF` supports the following registration options: \n",
    "* 'standard_setting'\n",
    "\n",
    "And the following index options: \n",
    "* 'inchikey'\n",
    "* 'canonical_smiles'\n",
    "* 'het_atom_tautomer'"
   ]
  }
 ],
 "metadata": {
  "kernelspec": {
   "display_name": "py37_rdkit_beta",
   "language": "python",
   "name": "py37_rdkit_beta"
  },
  "language_info": {
   "codemirror_mode": {
    "name": "ipython",
    "version": 3
   },
   "file_extension": ".py",
   "mimetype": "text/x-python",
   "name": "python",
   "nbconvert_exporter": "python",
   "pygments_lexer": "ipython3",
   "version": "3.7.7"
  }
 },
 "nbformat": 4,
 "nbformat_minor": 4
}
