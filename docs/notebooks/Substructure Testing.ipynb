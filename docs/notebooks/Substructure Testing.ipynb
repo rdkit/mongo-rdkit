{
 "cells": [
  {
   "cell_type": "markdown",
   "metadata": {},
   "source": [
    "# Substructure Testing"
   ]
  },
  {
   "cell_type": "code",
   "execution_count": 1,
   "metadata": {},
   "outputs": [],
   "source": [
    "from __future__ import print_function\n",
    "from rdkit import Chem\n",
    "from rdkit.Chem import rdMolDescriptors\n",
    "from rdkit.Avalon import pyAvalonTools\n",
    "from rdkit.Chem import Draw\n",
    "from rdkit.Chem.Draw import IPythonConsole\n",
    "from rdkit import rdBase\n",
    "from rdkit import DataStructs\n",
    "import random,gzip,time\n",
    "import mongordkit\n",
    "import time\n",
    "import pymongo\n",
    "import rdkit\n",
    "import matplotlib\n",
    "import matplotlib.pyplot as plt\n",
    "import numpy as np\n",
    "from os import sys\n",
    "import pandas as pd\n",
    "from rdkit import Chem\n",
    "from statistics import mean, median\n",
    "from rdkit.Chem import AllChem\n",
    "from mongordkit.Database import write\n",
    "from mongordkit.Search import similarity\n",
    "from mongordkit.Search import substructure"
   ]
  },
  {
   "cell_type": "code",
   "execution_count": 2,
   "metadata": {},
   "outputs": [
    {
     "name": "stdout",
     "output_type": "stream",
     "text": [
      "['admin', 'config', 'frags', 'leads', 'local', 'pieces', 'test']\n"
     ]
    }
   ],
   "source": [
    "#Construct a MongoDB instance. \n",
    "client = pymongo.MongoClient()\n",
    "print(client.list_database_names())\n",
    "#client.drop_database('db')\n",
    "#print(client.list_database_names())"
   ]
  },
  {
   "cell_type": "code",
   "execution_count": 3,
   "metadata": {},
   "outputs": [],
   "source": [
    "#Construct a database called test and write 100,000 molecules to it.\n",
    "db = client['test']\n",
    "#write.writeFromSDF(db, '../../../chembl_27.sdf', 'test', reg_option='standard_setting', index_option='inchikey', chunk_size=1000, limit=100000)"
   ]
  },
  {
   "cell_type": "code",
   "execution_count": 5,
   "metadata": {},
   "outputs": [
    {
     "data": {
      "text/plain": [
       "101000"
      ]
     },
     "execution_count": 5,
     "metadata": {},
     "output_type": "execute_result"
    }
   ],
   "source": [
    "db.molecules.count_documents({})"
   ]
  },
  {
   "cell_type": "code",
   "execution_count": 6,
   "metadata": {},
   "outputs": [],
   "source": [
    "f = open('../../data/zinc.frags.500.q.smi')\n",
    "frags = [Chem.MolFromSmiles(line.split()[0]) for line in f]\n",
    "f.close()\n",
    "\n",
    "f = open('../../data/zinc.leads.500.q.smi')\n",
    "leads = [Chem.MolFromSmiles(line.split()[0]) for line in f]\n",
    "f.close()\n",
    "\n",
    "f = open('../../data/fragqueries.q.txt')\n",
    "pieces = [Chem.MolFromSmiles(line) for line in f]\n",
    "f.close()"
   ]
  },
  {
   "cell_type": "markdown",
   "metadata": {},
   "source": [
    "## Benchmarking Begins"
   ]
  },
  {
   "cell_type": "code",
   "execution_count": 7,
   "metadata": {},
   "outputs": [],
   "source": [
    "# Benchmark for search of 500 fragments against 101,000 molecules with the naive and fingerprint screen substructure algorithm.\n",
    "frag_times = []\n",
    "frag_times_naive = []\n",
    "\n",
    "# for pattern in frags[:25]:\n",
    "#     start = time.time()\n",
    "#     substructure.SubSearchNaive(pattern, db)\n",
    "#     print(\"finished one\")\n",
    "#     end = time.time()\n",
    "#     frag_times_naive.append(end - start)\n",
    "# print(f\"Naive benchmarks. Median time: {median(frag_times_naive)}, Mean time: {mean(frag_times_naive)}\")"
   ]
  },
  {
   "cell_type": "code",
   "execution_count": 8,
   "metadata": {},
   "outputs": [
    {
     "name": "stdout",
     "output_type": "stream",
     "text": [
      "With fingerprint screening. Median time: 0.07276749610900879, Mean time: 0.08273182916641235\n"
     ]
    }
   ],
   "source": [
    "for pattern in frags:\n",
    "    start = time.time()\n",
    "    substructure.SubSearch(pattern, db)\n",
    "    end = time.time()\n",
    "    frag_times.append(end - start)\n",
    "print(f\"With fingerprint screening. Median time: {median(frag_times)}, Mean time: {mean(frag_times)}\")"
   ]
  },
  {
   "cell_type": "code",
   "execution_count": null,
   "metadata": {},
   "outputs": [],
   "source": [
    "# Benchmark for search of 500 leads against 101,000 molecules with the naive substructure algorithm.\n",
    "# lead_times_naive = []\n",
    "\n",
    "# for pattern in leads:\n",
    "#     start = time.time()\n",
    "#     substructure.SubSearchNaive(pattern, db)\n",
    "#     end = time.time()\n",
    "#     lead_times_naive.append(end - start)\n",
    "# print(f\"Median time: {median(lead_times_naive)}, Mean time: {mean(lead_times_naive)}\")"
   ]
  },
  {
   "cell_type": "code",
   "execution_count": 9,
   "metadata": {},
   "outputs": [
    {
     "name": "stdout",
     "output_type": "stream",
     "text": [
      "Median time: 0.0697939395904541, Mean time: 0.0744774112701416\n"
     ]
    }
   ],
   "source": [
    "lead_times = []\n",
    "\n",
    "for pattern in leads:\n",
    "    start = time.time()\n",
    "    substructure.SubSearch(pattern, db)\n",
    "    end = time.time()\n",
    "    lead_times.append(end - start)\n",
    "print(f\"Median time: {median(lead_times)}, Mean time: {mean(lead_times)}\")"
   ]
  },
  {
   "cell_type": "code",
   "execution_count": null,
   "metadata": {},
   "outputs": [],
   "source": [
    "# Benchmark for search of 500 pieces against 101,000 molecules with the naive substructure algorithm.\n",
    "pieces_times = []\n",
    "pieces_times_naive = []\n",
    "\n",
    "for pattern in pieces:\n",
    "    start = time.time()\n",
    "    substructure.SubSearchNaive(pattern, db)\n",
    "    end = time.time()\n",
    "    pieces_times.append(end - start)\n",
    "print(f\"Median time: {median(pieces_times_naive)}, Mean time: {mean(pieces_times_naive)}\")\n",
    "\n",
    "for pattern in pieces:\n",
    "    start = time.time()\n",
    "    substructure.SubSearch(pattern, db)\n",
    "    end = time.time()\n",
    "    pieces_times.append(end - start)\n",
    "print(f\"Median time: {median(pieces_times)}, Mean time: {mean(pieces_times)}\")"
   ]
  },
  {
   "cell_type": "code",
   "execution_count": null,
   "metadata": {},
   "outputs": [],
   "source": [
    "# Benchmark for searching 500 pieces, fragments, and leads against themselves. \n",
    "\n",
    "frag_db = client['frags']\n",
    "pieces_db = client['pieces']\n",
    "leads_db = client['leads']\n",
    "frag2_times_naive = []\n",
    "pieces2_times_naive = []\n",
    "leads2_times_naive = []\n",
    "frag2_times = []\n",
    "pieces2_times = []\n",
    "leads2_times = []\n",
    "\n",
    "write.WriteMolList(frag_db, frags, 'test')\n",
    "write.WriteMolList(pieces_db, frags, 'test')\n",
    "write.WriteMolList(leads_db, frags, 'test')\n",
    "\n",
    "for pattern in frags:\n",
    "    start = time.time()\n",
    "    substructure.SubSearchNaive(pattern, frag_db)\n",
    "    end = time.time()\n",
    "    frag2_times_naive.append(end - start)\n",
    "print(f\"Median time: {median(frag2_times_naive)}, Mean time: {mean(frag2_times_naive)}\")\n",
    "\n",
    "for pattern in frags:\n",
    "    start = time.time()\n",
    "    substructure.SubSearch(pattern, frag_db)\n",
    "    end = time.time()\n",
    "    frag2_times.append(end - start)\n",
    "print(f\"Median time: {median(frag2_times)}, Mean time: {mean(frag2_times)}\")"
   ]
  },
  {
   "cell_type": "code",
   "execution_count": null,
   "metadata": {},
   "outputs": [],
   "source": []
  }
 ],
 "metadata": {
  "kernelspec": {
   "display_name": "py37_rdkit_beta",
   "language": "python",
   "name": "py37_rdkit_beta"
  },
  "language_info": {
   "codemirror_mode": {
    "name": "ipython",
    "version": 3
   },
   "file_extension": ".py",
   "mimetype": "text/x-python",
   "name": "python",
   "nbconvert_exporter": "python",
   "pygments_lexer": "ipython3",
   "version": "3.7.7"
  }
 },
 "nbformat": 4,
 "nbformat_minor": 4
}
